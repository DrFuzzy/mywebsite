{
  "cells": [
    {
      "cell_type": "markdown",
      "metadata": {},
      "source": [
        "---\n",
        "title: \"About\"\n",
        "---\n",
        "\n",
        "```{css, echo = FALSE}\n",
        ".justify {\n",
        "  text-align: justify !important\n",
        "}\n",
        "```\n",
        "\n",
        "\n",
        "\n",
        "\n",
        "\n",
        "::: {.justify}\n",
        "\n",
        "Dr Kyriakos Deliparaschos received his Ph.D. degree from the Department of Signals, Control, and Robotics, School of Electrical and Computer Engineering, National Technical University of Athens (NTUA), his M.Sc. degree in Mechatronics from De Montfort University, Leicester, UK, and NTUA, and his B.Eng. Hons degree in Electronics Engineering from De Montfort University. He is Special Teaching Staff at the Department of Electrical Engineering, Computer Engineering, and Informatics. He has been a research fellow with the School of Aerospace, Transport, and Manufacturing (SATM) at Cranfield University and a research associate with NTUA's Intelligent Robotics and Automation Laboratory (IRAL). He was also a postdoctoral research fellow with the CTVR group at Trinity College, Dublin University, and a research associate with the Robotics, Control, and Decision Systems (RCDS) Lab, part of the Mechanical Engineering and Material Science and Engineering Department of CUT. Additionally, he was a member of the Intelligent Automation Systems research group (IAS) at NTUA. Previously, he served as a Lecturer at the University of Greenwich and the University of Hertfordshire in Athens, and as a Lab Assistant at the School of Electrical and Computer Engineering, NTUA. He worked at the Institute of Communications and Computer Systems (ICCS) and participated in several research programs funded by EPAN, EQUAL, and PENED. Furthermore, he worked for INTRACOM S.A. in the departments of VLSI and Communications Systems, and at Great Ormond Street Hospital, London, in the Biomedical Engineering Department.\n",
        "\n",
        "His work has been published in peer-reviewed international journals, conferences, and book chapters in the areas of robotics, control, and electronics. His main research interests focus on high-performance computing, ASIC/FPGA design, embedded systems and cyber-physical systems, hardware accelerators, mobile robots and robot-assisted surgery, cloud computing, and fault-tolerant control.\n",
        "\n",
        ":::"
      ],
      "id": "2288fc19"
    }
  ],
  "metadata": {
    "kernelspec": {
      "display_name": "Python 3",
      "language": "python",
      "name": "python3"
    }
  },
  "nbformat": 4,
  "nbformat_minor": 5
}